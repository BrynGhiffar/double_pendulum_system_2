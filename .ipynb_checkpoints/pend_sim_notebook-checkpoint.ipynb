{
 "cells": [
  {
   "cell_type": "markdown",
   "metadata": {},
   "source": [
    "# Pendulum Simulation"
   ]
  },
  {
   "cell_type": "markdown",
   "metadata": {},
   "source": [
    "## Initial conditions"
   ]
  },
  {
   "cell_type": "code",
   "execution_count": 5,
   "metadata": {},
   "outputs": [],
   "source": [
    "from double_pendulum_system_2 import *\n",
    "\n",
    "\n",
    "# First pendulum initial conditions\n",
    "m1 = 5 # Mass\n",
    "l1 = 1 # String length\n",
    "th1 = pi / 180 * 90 # angle\n",
    "th1_dot = 0 # angular velocity\n",
    "th1_dot2 = 0 # angular acceleration\n",
    "\n",
    "# Second pendulum initial conditions\n",
    "m2 = 5 # Mass\n",
    "l2 = 1 # String length\n",
    "th2 = pi / 180 * 90 # angle\n",
    "th2_dot = 0 # angular velocity\n",
    "th2_dot2 = 0 # angular acceleration\n",
    "\n",
    "# Environment\n",
    "g = 9.81 # Gravity\n",
    "inc = 10 ** -3 # Time increment\n",
    "time_start = 0 # Calculation starts at t = 0\n",
    "time_end = 5 # Calculation ends at t = 100"
   ]
  },
  {
   "cell_type": "markdown",
   "metadata": {},
   "source": [
    "## Generate the solutions"
   ]
  },
  {
   "cell_type": "code",
   "execution_count": 3,
   "metadata": {},
   "outputs": [
    {
     "name": "stdout",
     "output_type": "stream",
     "text": [
      "Converting to cartesian: [################################################## 100.0%] \n",
      "Finished converting to cartesian\n"
     ]
    }
   ],
   "source": [
    "system = double_pendulum_system(m1, l1, th1, th1_dot, th1_dot2, \n",
    "                                m2, l2, th2, th2_dot, th2_dot2, \n",
    "                                g, inc, time_start, time_end)\n",
    "\n",
    "system.solve()\n",
    "\n",
    "\n",
    "system.write_all_soln('3')"
   ]
  },
  {
   "cell_type": "markdown",
   "metadata": {},
   "source": [
    "## Plot the solution to the trajectory"
   ]
  },
  {
   "cell_type": "code",
   "execution_count": 9,
   "metadata": {},
   "outputs": [
    {
     "name": "stdout",
     "output_type": "stream",
     "text": [
      "Plotting trajectory\n"
     ]
    },
    {
     "ename": "PermissionError",
     "evalue": "[Errno 13] Permission denied: '3'",
     "output_type": "error",
     "traceback": [
      "\u001b[1;31m---------------------------------------------------------------------------\u001b[0m",
      "\u001b[1;31mPermissionError\u001b[0m                           Traceback (most recent call last)",
      "\u001b[1;32m<ipython-input-9-8db6f9925ff7>\u001b[0m in \u001b[0;36m<module>\u001b[1;34m\u001b[0m\n\u001b[1;32m----> 1\u001b[1;33m \u001b[0mplot_soln\u001b[0m\u001b[1;33m(\u001b[0m\u001b[1;34m'3'\u001b[0m\u001b[1;33m)\u001b[0m \u001b[1;31m# again the input is the file name\u001b[0m\u001b[1;33m\u001b[0m\u001b[1;33m\u001b[0m\u001b[0m\n\u001b[0m",
      "\u001b[1;32m~\\OneDrive - Monash University\\PythonPrograms\\pendulum_sim\\double_pendulum_system_2\\double_pendulum_system_2.py\u001b[0m in \u001b[0;36mplot_soln\u001b[1;34m(file_name)\u001b[0m\n\u001b[0;32m    143\u001b[0m     \u001b[0mprint\u001b[0m\u001b[1;33m(\u001b[0m\u001b[1;34m\"Plotting trajectory\"\u001b[0m\u001b[1;33m)\u001b[0m\u001b[1;33m\u001b[0m\u001b[1;33m\u001b[0m\u001b[0m\n\u001b[0;32m    144\u001b[0m     \u001b[0mprev_path\u001b[0m \u001b[1;33m=\u001b[0m \u001b[0mos\u001b[0m\u001b[1;33m.\u001b[0m\u001b[0mpath\u001b[0m\u001b[1;33m.\u001b[0m\u001b[0mabspath\u001b[0m\u001b[1;33m(\u001b[0m\u001b[1;34m'.'\u001b[0m\u001b[1;33m)\u001b[0m\u001b[1;33m\u001b[0m\u001b[1;33m\u001b[0m\u001b[0m\n\u001b[1;32m--> 145\u001b[1;33m     \u001b[0mos\u001b[0m\u001b[1;33m.\u001b[0m\u001b[0mchdir\u001b[0m\u001b[1;33m(\u001b[0m\u001b[0mprev_path\u001b[0m \u001b[1;33m+\u001b[0m \u001b[1;34m'\\\\'\u001b[0m \u001b[1;33m+\u001b[0m \u001b[0mfile_name_ext\u001b[0m\u001b[1;33m)\u001b[0m\u001b[1;33m\u001b[0m\u001b[1;33m\u001b[0m\u001b[0m\n\u001b[0m\u001b[0;32m    146\u001b[0m     \u001b[0mx1\u001b[0m \u001b[1;33m=\u001b[0m \u001b[0mnp\u001b[0m\u001b[1;33m.\u001b[0m\u001b[0mload\u001b[0m\u001b[1;33m(\u001b[0m\u001b[1;34m'dp_sys_x1_{}.npy'\u001b[0m\u001b[1;33m.\u001b[0m\u001b[0mformat\u001b[0m\u001b[1;33m(\u001b[0m\u001b[0mfile_name_ext\u001b[0m\u001b[1;33m)\u001b[0m\u001b[1;33m)\u001b[0m\u001b[1;33m\u001b[0m\u001b[1;33m\u001b[0m\u001b[0m\n\u001b[0;32m    147\u001b[0m     \u001b[0my1\u001b[0m \u001b[1;33m=\u001b[0m \u001b[0mnp\u001b[0m\u001b[1;33m.\u001b[0m\u001b[0mload\u001b[0m\u001b[1;33m(\u001b[0m\u001b[1;34m'dp_sys_y1_{}.npy'\u001b[0m\u001b[1;33m.\u001b[0m\u001b[0mformat\u001b[0m\u001b[1;33m(\u001b[0m\u001b[0mfile_name_ext\u001b[0m\u001b[1;33m)\u001b[0m\u001b[1;33m)\u001b[0m\u001b[1;33m\u001b[0m\u001b[1;33m\u001b[0m\u001b[0m\n",
      "\u001b[1;31mPermissionError\u001b[0m: [Errno 13] Permission denied: '3'"
     ]
    }
   ],
   "source": [
    "plot_soln('3') # again the input is the file name "
   ]
  },
  {
   "cell_type": "markdown",
   "metadata": {},
   "source": [
    "## More on double pendulums"
   ]
  },
  {
   "cell_type": "markdown",
   "metadata": {},
   "source": [
    "Below are the differential equation's of motion of the double pendulum. From myphisicslab.com.\n",
    "\n",
    "\\\\[ \\ddot{\\theta}_{1} = \\frac{-g(2m_1 + m_2)\\sin{(\\theta_1)} - m_2 g \\sin{(\\theta_1 - 2 \\theta_2)} - 2 \\sin{(\\theta_1 - \\theta_2)} m_2(\\dot{\\theta_2}^2 l_2 + \\dot{\\theta_1}^2 l_1 \\cos{(\\theta_1 - \\theta_2)})}{l_1 (2 m_1 + m_2 - m_2 \\cos{(2 \\theta_1 - 2 \\theta_2)})}\\\\\n",
    "\\ddot{\\theta}_2 = \\frac{2 \\sin{(\\theta_1 - \\theta_2)}(\\dot{\\theta_1} ^ 2 l_1 (m_1 + m_2) + g (m_1 + m_2)\\cos{(\\theta_1)} + \\dot{\\theta_2} ^ 2 l_2 m_2 \\cos{(\\theta_1 - \\theta_2)})}{l_2 (2 m_1 + m_2 - m_2 \\cos{(2 \\theta_1 - 2 \\theta_2)})}\n",
    "\\\\]"
   ]
  },
  {
   "cell_type": "markdown",
   "metadata": {},
   "source": [
    "* Speculation : Based on what I've observed if the time_inc period and time period is large enough, the total energy of the system would increase. Which violated the law of conservation of energy. I have yet tested the condition for smaller time_inc. (This need verification with analysis)"
   ]
  },
  {
   "cell_type": "code",
   "execution_count": 22,
   "metadata": {},
   "outputs": [
    {
     "data": {
      "text/plain": [
       "array([0])"
      ]
     },
     "execution_count": 22,
     "metadata": {},
     "output_type": "execute_result"
    }
   ],
   "source": [
    "import numpy as np\n",
    "p1_vel = l1 * np.array([th1_dot])\n",
    "p2_vel = l2 * np.array([th2_dot])\n",
    "p1_vel[0:5]"
   ]
  },
  {
   "cell_type": "code",
   "execution_count": 8,
   "metadata": {},
   "outputs": [
    {
     "name": "stdout",
     "output_type": "stream",
     "text": [
      "C:\\Users\\bryng\\OneDrive - Monash University\\PythonPrograms\\pendulum_sim\\double_pendulum_system_2\n"
     ]
    }
   ],
   "source": [
    "print(os.getcwd())"
   ]
  },
  {
   "cell_type": "code",
   "execution_count": null,
   "metadata": {},
   "outputs": [],
   "source": []
  }
 ],
 "metadata": {
  "kernelspec": {
   "display_name": "Python 3",
   "language": "python",
   "name": "python3"
  },
  "language_info": {
   "codemirror_mode": {
    "name": "ipython",
    "version": 3
   },
   "file_extension": ".py",
   "mimetype": "text/x-python",
   "name": "python",
   "nbconvert_exporter": "python",
   "pygments_lexer": "ipython3",
   "version": "3.8.3"
  }
 },
 "nbformat": 4,
 "nbformat_minor": 4
}
